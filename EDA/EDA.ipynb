{
 "cells": [
  {
   "cell_type": "code",
   "execution_count": 23,
   "id": "e7ed6f92",
   "metadata": {
    "scrolled": true
   },
   "outputs": [],
   "source": [
    "import datetime\n",
    "from datetime import timedelta\n",
    "import pandas as pd\n",
    "import matplotlib.pyplot as plt\n",
    "import numpy as np\n",
    "import os\n",
    "import seaborn as sns\n",
    "from statsmodels.tsa.stattools import adfuller\n",
    "import cgmquantify as cgm"
   ]
  },
  {
   "cell_type": "markdown",
   "id": "4a2ee7ed",
   "metadata": {},
   "source": [
    "# Fix sample 001 HR data\n",
    "This has already been done. Original data has been added to directory/original, and the new data has been put to directory."
   ]
  },
  {
   "cell_type": "code",
   "execution_count": 17,
   "id": "a170be5c",
   "metadata": {},
   "outputs": [
    {
     "data": {
      "text/html": [
       "<div>\n",
       "<style scoped>\n",
       "    .dataframe tbody tr th:only-of-type {\n",
       "        vertical-align: middle;\n",
       "    }\n",
       "\n",
       "    .dataframe tbody tr th {\n",
       "        vertical-align: top;\n",
       "    }\n",
       "\n",
       "    .dataframe thead th {\n",
       "        text-align: right;\n",
       "    }\n",
       "</style>\n",
       "<table border=\"1\" class=\"dataframe\">\n",
       "  <thead>\n",
       "    <tr style=\"text-align: right;\">\n",
       "      <th></th>\n",
       "      <th>datetime</th>\n",
       "      <th>hr</th>\n",
       "    </tr>\n",
       "  </thead>\n",
       "  <tbody>\n",
       "    <tr>\n",
       "      <th>0</th>\n",
       "      <td>2020-02-13 15:29:00.000000</td>\n",
       "      <td>94.0</td>\n",
       "    </tr>\n",
       "    <tr>\n",
       "      <th>1</th>\n",
       "      <td>2020-02-13 15:29:01.000000</td>\n",
       "      <td>99.0</td>\n",
       "    </tr>\n",
       "    <tr>\n",
       "      <th>2</th>\n",
       "      <td>2020-02-13 15:29:02.000000</td>\n",
       "      <td>94.0</td>\n",
       "    </tr>\n",
       "    <tr>\n",
       "      <th>3</th>\n",
       "      <td>2020-02-13 15:29:03.000000</td>\n",
       "      <td>82.5</td>\n",
       "    </tr>\n",
       "    <tr>\n",
       "      <th>4</th>\n",
       "      <td>2020-02-13 15:29:04.000000</td>\n",
       "      <td>82.6</td>\n",
       "    </tr>\n",
       "  </tbody>\n",
       "</table>\n",
       "</div>"
      ],
      "text/plain": [
       "                     datetime    hr\n",
       "0  2020-02-13 15:29:00.000000  94.0\n",
       "1  2020-02-13 15:29:01.000000  99.0\n",
       "2  2020-02-13 15:29:02.000000  94.0\n",
       "3  2020-02-13 15:29:03.000000  82.5\n",
       "4  2020-02-13 15:29:04.000000  82.6"
      ]
     },
     "execution_count": 17,
     "metadata": {},
     "output_type": "execute_result"
    }
   ],
   "source": [
    "directory = \"/Users/matthewlee/Matthew/work/Dunn Lab/big-ideas-lab-glycemic-variability-and-wearable-device-data-1.1.0/001/original\"\n",
    "hr_df = pd.read_csv(f\"{directory}/HR_001.csv\")\n",
    "lst = []\n",
    "for i in hr_df['datetime'].values:\n",
    "    date = dateParser(i)\n",
    "    date = date - timedelta(days=150)\n",
    "    lst.append(date.strftime('%Y-%m-%d %H:%M:%S.%f'))\n",
    "hr_df['datetime'] = np.array(lst)\n",
    "hr_df.head()"
   ]
  },
  {
   "cell_type": "code",
   "execution_count": 196,
   "id": "4eb13023",
   "metadata": {},
   "outputs": [],
   "source": [
    "hr_df.to_csv(f\"{directory}/HR_fix_001.csv\", index=False)"
   ]
  },
  {
   "cell_type": "code",
   "execution_count": 197,
   "id": "ee4ff18f",
   "metadata": {
    "scrolled": true
   },
   "outputs": [
    {
     "data": {
      "text/html": [
       "<div>\n",
       "<style scoped>\n",
       "    .dataframe tbody tr th:only-of-type {\n",
       "        vertical-align: middle;\n",
       "    }\n",
       "\n",
       "    .dataframe tbody tr th {\n",
       "        vertical-align: top;\n",
       "    }\n",
       "\n",
       "    .dataframe thead th {\n",
       "        text-align: right;\n",
       "    }\n",
       "</style>\n",
       "<table border=\"1\" class=\"dataframe\">\n",
       "  <thead>\n",
       "    <tr style=\"text-align: right;\">\n",
       "      <th></th>\n",
       "      <th>datetime</th>\n",
       "      <th>hr</th>\n",
       "    </tr>\n",
       "  </thead>\n",
       "  <tbody>\n",
       "    <tr>\n",
       "      <th>0</th>\n",
       "      <td>2020-02-13 15:29:00.000000</td>\n",
       "      <td>94.0</td>\n",
       "    </tr>\n",
       "    <tr>\n",
       "      <th>1</th>\n",
       "      <td>2020-02-13 15:29:01.000000</td>\n",
       "      <td>99.0</td>\n",
       "    </tr>\n",
       "    <tr>\n",
       "      <th>2</th>\n",
       "      <td>2020-02-13 15:29:02.000000</td>\n",
       "      <td>94.0</td>\n",
       "    </tr>\n",
       "    <tr>\n",
       "      <th>3</th>\n",
       "      <td>2020-02-13 15:29:03.000000</td>\n",
       "      <td>82.5</td>\n",
       "    </tr>\n",
       "    <tr>\n",
       "      <th>4</th>\n",
       "      <td>2020-02-13 15:29:04.000000</td>\n",
       "      <td>82.6</td>\n",
       "    </tr>\n",
       "  </tbody>\n",
       "</table>\n",
       "</div>"
      ],
      "text/plain": [
       "                     datetime    hr\n",
       "0  2020-02-13 15:29:00.000000  94.0\n",
       "1  2020-02-13 15:29:01.000000  99.0\n",
       "2  2020-02-13 15:29:02.000000  94.0\n",
       "3  2020-02-13 15:29:03.000000  82.5\n",
       "4  2020-02-13 15:29:04.000000  82.6"
      ]
     },
     "execution_count": 197,
     "metadata": {},
     "output_type": "execute_result"
    }
   ],
   "source": [
    "hr_fix_df = pd.read_csv(f\"{directory}/HR_fix_001.csv\")\n",
    "hr_fix_df.head()"
   ]
  },
  {
   "cell_type": "markdown",
   "id": "7d31b86d",
   "metadata": {},
   "source": [
    "# Data Loading"
   ]
  },
  {
   "cell_type": "markdown",
   "id": "2db503b9",
   "metadata": {},
   "source": [
    "Load the data into a dataframe."
   ]
  },
  {
   "cell_type": "code",
   "execution_count": 3,
   "id": "8ac66ab4",
   "metadata": {
    "scrolled": true
   },
   "outputs": [
    {
     "data": {
      "text/plain": [
       "['TEMP_001.csv',\n",
       " 'BVP_001.csv',\n",
       " 'original',\n",
       " 'ACC_001.csv',\n",
       " 'HR_fix_001.csv',\n",
       " 'Food_Log_001.csv',\n",
       " 'EDA_001.csv',\n",
       " 'Dexcom_001.csv',\n",
       " 'IBI_001.csv']"
      ]
     },
     "execution_count": 3,
     "metadata": {},
     "output_type": "execute_result"
    }
   ],
   "source": [
    "# set directory as the general save directory for now\n",
    "directory = \"/Users/matthewlee/Matthew/work/Dunn Lab/big-ideas-lab-glycemic-variability-and-wearable-device-data-1.1.0\"\n",
    "# set plot style\n",
    "plt.style.use('ggplot')\n",
    "# look up the directories\n",
    "os.listdir(f\"{directory}/001\")"
   ]
  },
  {
   "cell_type": "markdown",
   "id": "7ce29a41",
   "metadata": {},
   "source": [
    "Look at the data format for each of the dataframes."
   ]
  },
  {
   "cell_type": "code",
   "execution_count": 4,
   "id": "02a762a3",
   "metadata": {
    "scrolled": true
   },
   "outputs": [
    {
     "name": "stdout",
     "output_type": "stream",
     "text": [
      "<class 'pandas.core.frame.DataFrame'>\n",
      "RangeIndex: 2537040 entries, 0 to 2537039\n",
      "Data columns (total 2 columns):\n",
      " #   Column    Dtype         \n",
      "---  ------    -----         \n",
      " 0   datetime  datetime64[ns]\n",
      " 1    temp     float64       \n",
      "dtypes: datetime64[ns](1), float64(1)\n",
      "memory usage: 38.7 MB\n"
     ]
    }
   ],
   "source": [
    "temp_dir = f\"{directory}/001/TEMP_001.csv\"\n",
    "temp_df = pd.read_csv(temp_dir)\n",
    "temp_df['datetime'] = pd.to_datetime(temp_df['datetime'])\n",
    "temp_df.info()"
   ]
  },
  {
   "cell_type": "code",
   "execution_count": 5,
   "id": "411a3760",
   "metadata": {},
   "outputs": [
    {
     "name": "stdout",
     "output_type": "stream",
     "text": [
      "<class 'pandas.core.frame.DataFrame'>\n",
      "RangeIndex: 40592838 entries, 0 to 40592837\n",
      "Data columns (total 2 columns):\n",
      " #   Column    Dtype         \n",
      "---  ------    -----         \n",
      " 0   datetime  datetime64[ns]\n",
      " 1    bvp      float64       \n",
      "dtypes: datetime64[ns](1), float64(1)\n",
      "memory usage: 619.4 MB\n"
     ]
    }
   ],
   "source": [
    "bvp_dir = f\"{directory}/001/BVP_001.csv\"\n",
    "bvp_df = pd.read_csv(bvp_dir)\n",
    "bvp_df['datetime'] = pd.to_datetime(bvp_df['datetime'])\n",
    "bvp_df.info()"
   ]
  },
  {
   "cell_type": "code",
   "execution_count": 6,
   "id": "5820424b",
   "metadata": {},
   "outputs": [
    {
     "name": "stdout",
     "output_type": "stream",
     "text": [
      "<class 'pandas.core.frame.DataFrame'>\n",
      "RangeIndex: 20296428 entries, 0 to 20296427\n",
      "Data columns (total 4 columns):\n",
      " #   Column    Dtype         \n",
      "---  ------    -----         \n",
      " 0   datetime  datetime64[ns]\n",
      " 1    acc_x    float64       \n",
      " 2    acc_y    float64       \n",
      " 3    acc_z    float64       \n",
      "dtypes: datetime64[ns](1), float64(3)\n",
      "memory usage: 619.4 MB\n"
     ]
    }
   ],
   "source": [
    "acc_dir = f\"{directory}/001/ACC_001.csv\"\n",
    "acc_df = pd.read_csv(acc_dir)\n",
    "acc_df['datetime'] = pd.to_datetime(acc_df['datetime'])\n",
    "acc_df.info()"
   ]
  },
  {
   "cell_type": "code",
   "execution_count": 7,
   "id": "ab1af8f0",
   "metadata": {},
   "outputs": [
    {
     "name": "stdout",
     "output_type": "stream",
     "text": [
      "<class 'pandas.core.frame.DataFrame'>\n",
      "RangeIndex: 634188 entries, 0 to 634187\n",
      "Data columns (total 2 columns):\n",
      " #   Column    Non-Null Count   Dtype         \n",
      "---  ------    --------------   -----         \n",
      " 0   datetime  634188 non-null  datetime64[ns]\n",
      " 1    hr       634188 non-null  float64       \n",
      "dtypes: datetime64[ns](1), float64(1)\n",
      "memory usage: 9.7 MB\n"
     ]
    }
   ],
   "source": [
    "hr_dir = f\"{directory}/001/HR_fix_001.csv\"\n",
    "hr_df = pd.read_csv(hr_dir)\n",
    "hr_df['datetime'] = pd.to_datetime(hr_df['datetime'])\n",
    "hr_df.info()"
   ]
  },
  {
   "cell_type": "code",
   "execution_count": 8,
   "id": "4cc3b57f",
   "metadata": {
    "scrolled": true
   },
   "outputs": [
    {
     "name": "stdout",
     "output_type": "stream",
     "text": [
      "<class 'pandas.core.frame.DataFrame'>\n",
      "RangeIndex: 61 entries, 0 to 60\n",
      "Data columns (total 15 columns):\n",
      " #   Column         Non-Null Count  Dtype         \n",
      "---  ------         --------------  -----         \n",
      " 0   date           61 non-null     object        \n",
      " 1   time           61 non-null     object        \n",
      " 2   time_begin     61 non-null     object        \n",
      " 3   time_end       0 non-null      float64       \n",
      " 4   logged_food    61 non-null     object        \n",
      " 5   amount         60 non-null     float64       \n",
      " 6   unit           40 non-null     object        \n",
      " 7   searched_food  60 non-null     object        \n",
      " 8   calorie        61 non-null     float64       \n",
      " 9   total_carb     61 non-null     float64       \n",
      " 10  dietary_fiber  4 non-null      float64       \n",
      " 11  sugar          61 non-null     float64       \n",
      " 12  protein        61 non-null     float64       \n",
      " 13  total_fat      4 non-null      float64       \n",
      " 14  datetime       61 non-null     datetime64[ns]\n",
      "dtypes: datetime64[ns](1), float64(8), object(6)\n",
      "memory usage: 7.3+ KB\n"
     ]
    }
   ],
   "source": [
    "food_dir = f\"{directory}/001/Food_Log_001.csv\"\n",
    "food_df = pd.read_csv(food_dir)\n",
    "food_df['datetime'] = pd.to_datetime(food_df['time_begin'])\n",
    "food_df.info()"
   ]
  },
  {
   "cell_type": "code",
   "execution_count": 9,
   "id": "fd3f3a03",
   "metadata": {},
   "outputs": [
    {
     "name": "stdout",
     "output_type": "stream",
     "text": [
      "<class 'pandas.core.frame.DataFrame'>\n",
      "RangeIndex: 2537046 entries, 0 to 2537045\n",
      "Data columns (total 2 columns):\n",
      " #   Column    Dtype         \n",
      "---  ------    -----         \n",
      " 0   datetime  datetime64[ns]\n",
      " 1    eda      float64       \n",
      "dtypes: datetime64[ns](1), float64(1)\n",
      "memory usage: 38.7 MB\n"
     ]
    }
   ],
   "source": [
    "eda_dir = f\"{directory}/001/EDA_001.csv\"\n",
    "eda_df = pd.read_csv(eda_dir)\n",
    "eda_df['datetime'] = pd.to_datetime(eda_df['datetime'])\n",
    "eda_df.info()"
   ]
  },
  {
   "cell_type": "code",
   "execution_count": 18,
   "id": "adb01c43",
   "metadata": {},
   "outputs": [],
   "source": [
    "def importdexcom(filename):\n",
    "    \"\"\"\n",
    "        Imports data from Dexcom continuous glucose monitor devices\n",
    "        Args:\n",
    "            filename (String): path to file\n",
    "        Returns:\n",
    "            (pd.DataFrame): dataframe of data with DateTime, Time and Glucose columns\n",
    "    \"\"\"\n",
    "    data = pd.read_csv(filename) \n",
    "    df = pd.DataFrame()\n",
    "    df['Time'] = data['Timestamp (YYYY-MM-DDThh:mm:ss)']\n",
    "    df['Glucose'] = pd.to_numeric(data['Glucose Value (mg/dL)'])\n",
    "    df.drop(df.index[:12], inplace=True)\n",
    "    df['Time'] =  pd.to_datetime(df['Time'], format='%Y-%m-%dT%H:%M:%S')\n",
    "    df['Day'] = df['Time'].dt.date\n",
    "    df = df.reset_index()\n",
    "    return df"
   ]
  },
  {
   "cell_type": "code",
   "execution_count": 10,
   "id": "02ad222e",
   "metadata": {
    "scrolled": true
   },
   "outputs": [
    {
     "name": "stdout",
     "output_type": "stream",
     "text": [
      "<class 'pandas.core.frame.DataFrame'>\n",
      "RangeIndex: 2573 entries, 0 to 2572\n",
      "Data columns (total 14 columns):\n",
      " #   Column                              Non-Null Count  Dtype         \n",
      "---  ------                              --------------  -----         \n",
      " 0   Index                               2573 non-null   int64         \n",
      " 1   Timestamp (YYYY-MM-DDThh:mm:ss)     2561 non-null   object        \n",
      " 2   Event Type                          2573 non-null   object        \n",
      " 3   Event Subtype                       7 non-null      object        \n",
      " 4   Patient Info                        4 non-null      object        \n",
      " 5   Device Info                         1 non-null      object        \n",
      " 6   Source Device ID                    2569 non-null   object        \n",
      " 7   Glucose Value (mg/dL)               2565 non-null   float64       \n",
      " 8   Insulin Value (u)                   0 non-null      float64       \n",
      " 9   Carb Value (grams)                  0 non-null      float64       \n",
      " 10  Duration (hh:mm:ss)                 1 non-null      object        \n",
      " 11  Glucose Rate of Change (mg/dL/min)  2 non-null      float64       \n",
      " 12  Transmitter Time (Long Integer)     2561 non-null   float64       \n",
      " 13  datetime                            2561 non-null   datetime64[ns]\n",
      "dtypes: datetime64[ns](1), float64(5), int64(1), object(7)\n",
      "memory usage: 281.5+ KB\n"
     ]
    }
   ],
   "source": [
    "dexcom_dir = f\"{directory}/001/Dexcom_001.csv\"\n",
    "dexcom_df = pd.read_csv(dexcom_dir)\n",
    "dexcom_df['datetime'] = pd.to_datetime(dexcom_df['Timestamp (YYYY-MM-DDThh:mm:ss)'])\n",
    "dexcom_df.info()"
   ]
  },
  {
   "cell_type": "code",
   "execution_count": 20,
   "id": "9a3bec35",
   "metadata": {},
   "outputs": [
    {
     "data": {
      "text/html": [
       "<div>\n",
       "<style scoped>\n",
       "    .dataframe tbody tr th:only-of-type {\n",
       "        vertical-align: middle;\n",
       "    }\n",
       "\n",
       "    .dataframe tbody tr th {\n",
       "        vertical-align: top;\n",
       "    }\n",
       "\n",
       "    .dataframe thead th {\n",
       "        text-align: right;\n",
       "    }\n",
       "</style>\n",
       "<table border=\"1\" class=\"dataframe\">\n",
       "  <thead>\n",
       "    <tr style=\"text-align: right;\">\n",
       "      <th></th>\n",
       "      <th>index</th>\n",
       "      <th>Time</th>\n",
       "      <th>Glucose</th>\n",
       "      <th>Day</th>\n",
       "    </tr>\n",
       "  </thead>\n",
       "  <tbody>\n",
       "    <tr>\n",
       "      <th>0</th>\n",
       "      <td>12</td>\n",
       "      <td>2020-02-13 17:23:32</td>\n",
       "      <td>61.0</td>\n",
       "      <td>2020-02-13</td>\n",
       "    </tr>\n",
       "    <tr>\n",
       "      <th>1</th>\n",
       "      <td>13</td>\n",
       "      <td>2020-02-13 17:28:32</td>\n",
       "      <td>59.0</td>\n",
       "      <td>2020-02-13</td>\n",
       "    </tr>\n",
       "    <tr>\n",
       "      <th>2</th>\n",
       "      <td>14</td>\n",
       "      <td>2020-02-13 17:33:32</td>\n",
       "      <td>58.0</td>\n",
       "      <td>2020-02-13</td>\n",
       "    </tr>\n",
       "    <tr>\n",
       "      <th>3</th>\n",
       "      <td>15</td>\n",
       "      <td>2020-02-13 17:38:32</td>\n",
       "      <td>59.0</td>\n",
       "      <td>2020-02-13</td>\n",
       "    </tr>\n",
       "    <tr>\n",
       "      <th>4</th>\n",
       "      <td>16</td>\n",
       "      <td>2020-02-13 17:43:31</td>\n",
       "      <td>63.0</td>\n",
       "      <td>2020-02-13</td>\n",
       "    </tr>\n",
       "  </tbody>\n",
       "</table>\n",
       "</div>"
      ],
      "text/plain": [
       "   index                Time  Glucose         Day\n",
       "0     12 2020-02-13 17:23:32     61.0  2020-02-13\n",
       "1     13 2020-02-13 17:28:32     59.0  2020-02-13\n",
       "2     14 2020-02-13 17:33:32     58.0  2020-02-13\n",
       "3     15 2020-02-13 17:38:32     59.0  2020-02-13\n",
       "4     16 2020-02-13 17:43:31     63.0  2020-02-13"
      ]
     },
     "execution_count": 20,
     "metadata": {},
     "output_type": "execute_result"
    }
   ],
   "source": [
    "directory = \"/Users/matthewlee/Matthew/work/Dunn Lab/big-ideas-lab-glycemic-variability-and-wearable-device-data-1.1.0/\"\n",
    "dexcom_dir = f\"{directory}/001/Dexcom_001.csv\"\n",
    "dexcom_df = importdexcom(dexcom_dir)\n",
    "dexcom_df.head()"
   ]
  },
  {
   "cell_type": "code",
   "execution_count": 11,
   "id": "2e02a8a1",
   "metadata": {},
   "outputs": [
    {
     "name": "stdout",
     "output_type": "stream",
     "text": [
      "<class 'pandas.core.frame.DataFrame'>\n",
      "RangeIndex: 266366 entries, 0 to 266365\n",
      "Data columns (total 2 columns):\n",
      " #   Column    Non-Null Count   Dtype         \n",
      "---  ------    --------------   -----         \n",
      " 0   datetime  266366 non-null  datetime64[ns]\n",
      " 1    ibi      266366 non-null  float64       \n",
      "dtypes: datetime64[ns](1), float64(1)\n",
      "memory usage: 4.1 MB\n"
     ]
    }
   ],
   "source": [
    "ibi_dir = f\"{directory}/001/IBI_001.csv\"\n",
    "ibi_df = pd.read_csv(ibi_dir)\n",
    "ibi_df['datetime'] = pd.to_datetime(ibi_df['datetime'])\n",
    "ibi_df.info()"
   ]
  },
  {
   "cell_type": "code",
   "execution_count": 16,
   "id": "034e2157",
   "metadata": {
    "scrolled": true
   },
   "outputs": [
    {
     "name": "stdout",
     "output_type": "stream",
     "text": [
      "TEMP_001.csv\n",
      "2537040\n",
      "BVP_001.csv\n",
      "2537040\n",
      "original\n",
      "ACC_001.csv\n",
      "2537040\n",
      "HR_fix_001.csv\n",
      "634180\n",
      "Food_Log_001.csv\n",
      "EDA_001.csv\n",
      "634180\n",
      "Dexcom_001.csv\n",
      "2055\n",
      "IBI_001.csv\n",
      "848\n"
     ]
    }
   ],
   "source": [
    "df_final = mergedDF(f\"{directory}/001\", 'datetime')"
   ]
  },
  {
   "cell_type": "code",
   "execution_count": 306,
   "id": "41ead00f",
   "metadata": {},
   "outputs": [
    {
     "data": {
      "text/html": [
       "<div>\n",
       "<style scoped>\n",
       "    .dataframe tbody tr th:only-of-type {\n",
       "        vertical-align: middle;\n",
       "    }\n",
       "\n",
       "    .dataframe tbody tr th {\n",
       "        vertical-align: top;\n",
       "    }\n",
       "\n",
       "    .dataframe thead th {\n",
       "        text-align: right;\n",
       "    }\n",
       "</style>\n",
       "<table border=\"1\" class=\"dataframe\">\n",
       "  <thead>\n",
       "    <tr style=\"text-align: right;\">\n",
       "      <th></th>\n",
       "      <th>datetime</th>\n",
       "      <th>temp</th>\n",
       "      <th>bvp</th>\n",
       "      <th>acc_x</th>\n",
       "      <th>acc_y</th>\n",
       "      <th>acc_z</th>\n",
       "      <th>hr</th>\n",
       "      <th>eda</th>\n",
       "      <th>Index</th>\n",
       "      <th>Timestamp (YYYY-MM-DDThh:mm:ss)</th>\n",
       "      <th>...</th>\n",
       "      <th>Patient Info</th>\n",
       "      <th>Device Info</th>\n",
       "      <th>Source Device ID</th>\n",
       "      <th>Glucose Value (mg/dL)</th>\n",
       "      <th>Insulin Value (u)</th>\n",
       "      <th>Carb Value (grams)</th>\n",
       "      <th>Duration (hh:mm:ss)</th>\n",
       "      <th>Glucose Rate of Change (mg/dL/min)</th>\n",
       "      <th>Transmitter Time (Long Integer)</th>\n",
       "      <th>ibi</th>\n",
       "    </tr>\n",
       "  </thead>\n",
       "  <tbody>\n",
       "    <tr>\n",
       "      <th>0</th>\n",
       "      <td>2020-02-13 17:23:32</td>\n",
       "      <td>33.63</td>\n",
       "      <td>0.73</td>\n",
       "      <td>-3.0</td>\n",
       "      <td>48.0</td>\n",
       "      <td>44.0</td>\n",
       "      <td>74.87</td>\n",
       "      <td>0.184489</td>\n",
       "      <td>13</td>\n",
       "      <td>2020-02-13 17:23:32</td>\n",
       "      <td>...</td>\n",
       "      <td>NaN</td>\n",
       "      <td>NaN</td>\n",
       "      <td>iPhone G6</td>\n",
       "      <td>61.0</td>\n",
       "      <td>NaN</td>\n",
       "      <td>NaN</td>\n",
       "      <td>NaN</td>\n",
       "      <td>NaN</td>\n",
       "      <td>11101.0</td>\n",
       "      <td>0.765660</td>\n",
       "    </tr>\n",
       "    <tr>\n",
       "      <th>1</th>\n",
       "      <td>2020-02-13 17:28:32</td>\n",
       "      <td>32.95</td>\n",
       "      <td>-2.46</td>\n",
       "      <td>-7.0</td>\n",
       "      <td>45.0</td>\n",
       "      <td>34.0</td>\n",
       "      <td>85.30</td>\n",
       "      <td>1.213610</td>\n",
       "      <td>14</td>\n",
       "      <td>2020-02-13 17:28:32</td>\n",
       "      <td>...</td>\n",
       "      <td>NaN</td>\n",
       "      <td>NaN</td>\n",
       "      <td>iPhone G6</td>\n",
       "      <td>59.0</td>\n",
       "      <td>NaN</td>\n",
       "      <td>NaN</td>\n",
       "      <td>NaN</td>\n",
       "      <td>NaN</td>\n",
       "      <td>11401.0</td>\n",
       "      <td>0.640654</td>\n",
       "    </tr>\n",
       "    <tr>\n",
       "      <th>2</th>\n",
       "      <td>2020-02-13 17:43:31</td>\n",
       "      <td>33.39</td>\n",
       "      <td>-1.37</td>\n",
       "      <td>34.0</td>\n",
       "      <td>44.0</td>\n",
       "      <td>-28.0</td>\n",
       "      <td>81.55</td>\n",
       "      <td>2.096640</td>\n",
       "      <td>17</td>\n",
       "      <td>2020-02-13 17:43:31</td>\n",
       "      <td>...</td>\n",
       "      <td>NaN</td>\n",
       "      <td>NaN</td>\n",
       "      <td>iPhone G6</td>\n",
       "      <td>63.0</td>\n",
       "      <td>NaN</td>\n",
       "      <td>NaN</td>\n",
       "      <td>NaN</td>\n",
       "      <td>NaN</td>\n",
       "      <td>12301.0</td>\n",
       "      <td>0.609403</td>\n",
       "    </tr>\n",
       "    <tr>\n",
       "      <th>3</th>\n",
       "      <td>2020-02-13 17:53:31</td>\n",
       "      <td>34.27</td>\n",
       "      <td>-2.03</td>\n",
       "      <td>37.0</td>\n",
       "      <td>40.0</td>\n",
       "      <td>-30.0</td>\n",
       "      <td>82.87</td>\n",
       "      <td>3.622644</td>\n",
       "      <td>19</td>\n",
       "      <td>2020-02-13 17:53:31</td>\n",
       "      <td>...</td>\n",
       "      <td>NaN</td>\n",
       "      <td>NaN</td>\n",
       "      <td>iPhone G6</td>\n",
       "      <td>68.0</td>\n",
       "      <td>NaN</td>\n",
       "      <td>NaN</td>\n",
       "      <td>NaN</td>\n",
       "      <td>NaN</td>\n",
       "      <td>12901.0</td>\n",
       "      <td>0.843789</td>\n",
       "    </tr>\n",
       "    <tr>\n",
       "      <th>4</th>\n",
       "      <td>2020-02-13 18:13:32</td>\n",
       "      <td>34.89</td>\n",
       "      <td>-9.95</td>\n",
       "      <td>35.0</td>\n",
       "      <td>44.0</td>\n",
       "      <td>30.0</td>\n",
       "      <td>73.18</td>\n",
       "      <td>0.408962</td>\n",
       "      <td>23</td>\n",
       "      <td>2020-02-13 18:13:32</td>\n",
       "      <td>...</td>\n",
       "      <td>NaN</td>\n",
       "      <td>NaN</td>\n",
       "      <td>iPhone G6</td>\n",
       "      <td>70.0</td>\n",
       "      <td>NaN</td>\n",
       "      <td>NaN</td>\n",
       "      <td>NaN</td>\n",
       "      <td>NaN</td>\n",
       "      <td>14101.0</td>\n",
       "      <td>0.781286</td>\n",
       "    </tr>\n",
       "  </tbody>\n",
       "</table>\n",
       "<p>5 rows × 22 columns</p>\n",
       "</div>"
      ],
      "text/plain": [
       "             datetime   temp   bvp   acc_x   acc_y   acc_z     hr       eda  \\\n",
       "0 2020-02-13 17:23:32  33.63  0.73    -3.0    48.0    44.0  74.87  0.184489   \n",
       "1 2020-02-13 17:28:32  32.95 -2.46    -7.0    45.0    34.0  85.30  1.213610   \n",
       "2 2020-02-13 17:43:31  33.39 -1.37    34.0    44.0   -28.0  81.55  2.096640   \n",
       "3 2020-02-13 17:53:31  34.27 -2.03    37.0    40.0   -30.0  82.87  3.622644   \n",
       "4 2020-02-13 18:13:32  34.89 -9.95    35.0    44.0    30.0  73.18  0.408962   \n",
       "\n",
       "   Index Timestamp (YYYY-MM-DDThh:mm:ss)  ... Patient Info Device Info  \\\n",
       "0     13             2020-02-13 17:23:32  ...          NaN         NaN   \n",
       "1     14             2020-02-13 17:28:32  ...          NaN         NaN   \n",
       "2     17             2020-02-13 17:43:31  ...          NaN         NaN   \n",
       "3     19             2020-02-13 17:53:31  ...          NaN         NaN   \n",
       "4     23             2020-02-13 18:13:32  ...          NaN         NaN   \n",
       "\n",
       "  Source Device ID Glucose Value (mg/dL) Insulin Value (u)  \\\n",
       "0        iPhone G6                  61.0               NaN   \n",
       "1        iPhone G6                  59.0               NaN   \n",
       "2        iPhone G6                  63.0               NaN   \n",
       "3        iPhone G6                  68.0               NaN   \n",
       "4        iPhone G6                  70.0               NaN   \n",
       "\n",
       "   Carb Value (grams)  Duration (hh:mm:ss)  \\\n",
       "0                 NaN                  NaN   \n",
       "1                 NaN                  NaN   \n",
       "2                 NaN                  NaN   \n",
       "3                 NaN                  NaN   \n",
       "4                 NaN                  NaN   \n",
       "\n",
       "   Glucose Rate of Change (mg/dL/min) Transmitter Time (Long Integer)  \\\n",
       "0                                 NaN                         11101.0   \n",
       "1                                 NaN                         11401.0   \n",
       "2                                 NaN                         12301.0   \n",
       "3                                 NaN                         12901.0   \n",
       "4                                 NaN                         14101.0   \n",
       "\n",
       "        ibi  \n",
       "0  0.765660  \n",
       "1  0.640654  \n",
       "2  0.609403  \n",
       "3  0.843789  \n",
       "4  0.781286  \n",
       "\n",
       "[5 rows x 22 columns]"
      ]
     },
     "execution_count": 306,
     "metadata": {},
     "output_type": "execute_result"
    }
   ],
   "source": [
    "df_final.head()"
   ]
  },
  {
   "cell_type": "code",
   "execution_count": 14,
   "id": "894d01b5",
   "metadata": {},
   "outputs": [],
   "source": [
    "# function: parses date string into DateTime Object\n",
    "# input: date\n",
    "# output: DateTime Object\n",
    "def dateParser(date):\n",
    "    mainFormat = '%Y-%m-%d %H:%M:%S.%f'\n",
    "    altFormat = '%Y-%m-%d %H:%M:%S'\n",
    "    try:\n",
    "        return datetime.datetime.strptime(date, mainFormat)\n",
    "    except ValueError:\n",
    "        return datetime.datetime.strptime(date, altFormat)"
   ]
  },
  {
   "cell_type": "code",
   "execution_count": 14,
   "id": "621275d1",
   "metadata": {},
   "outputs": [],
   "source": [
    "# function: plots the data given two column names and a file\n",
    "# input: col1, col2, filename\n",
    "# output: None (displays plot)\n",
    "def dataPlot(col1, col2, filename):\n",
    "    df = pd.read_csv(f\"{directory}/{filename}\")\n",
    "    plt.plot(df[col1][:20], df[col2][:20])"
   ]
  },
  {
   "cell_type": "code",
   "execution_count": 15,
   "id": "73880d4c",
   "metadata": {},
   "outputs": [],
   "source": [
    "# function: create merged pandas dataframe on a specified axis\n",
    "# input: directory, axis\n",
    "# output: merged pandas dataframe according to specified axis\n",
    "def mergedDF(directory, axis):\n",
    "    df_final = pd.DataFrame()\n",
    "    for file in os.listdir(directory):\n",
    "        df = pd.DataFrame()\n",
    "        # if the file extension is .csv\n",
    "        if 'Food_Log' in file:\n",
    "            continue\n",
    "        if file.endswith('.csv'):\n",
    "            # read the csv file into a pandas dataframe\n",
    "            df = pd.read_csv(f'{directory}/{file}')\n",
    "            # make datetime a datetime object otherwise check for exceptions to create new column\n",
    "            if 'Food_Log' in file:\n",
    "                df['datetime'] = pd.to_datetime(df['time_begin'])\n",
    "            elif 'Dexcom' in file:\n",
    "                df['datetime'] = pd.to_datetime(df['Timestamp (YYYY-MM-DDThh:mm:ss)'])\n",
    "            elif 'IBI' in file:\n",
    "                df['datetime'] = pd.to_datetime(np.array([i.replace(microsecond=0) for i in ibi_df['datetime']]))\n",
    "            else:\n",
    "                df['datetime'] = pd.to_datetime(df['datetime'])\n",
    "        else:\n",
    "            continue\n",
    "        if len(df_final.columns) == 0:\n",
    "            df_final = df\n",
    "        else:\n",
    "            df_final = df_final.merge(df, on='datetime', how='inner')\n",
    "    return df_final"
   ]
  },
  {
   "cell_type": "code",
   "execution_count": 17,
   "id": "bc0495ea",
   "metadata": {
    "scrolled": true
   },
   "outputs": [
    {
     "data": {
      "image/png": "[encoded data removed]",
      "text/plain": [
       "<Figure size 640x480 with 2 Axes>"
      ]
     },
     "metadata": {},
     "output_type": "display_data"
    }
   ],
   "source": [
    "matrix = df_final.corr()\n",
    "df = df_final[[' temp', ' bvp', ' hr', 'Glucose Value (mg/dL)']]\n",
    "dataplot = sns.heatmap(df.corr(), cmap=\"YlGnBu\", annot=True)\n",
    "plt.show()"
   ]
  },
  {
   "cell_type": "markdown",
   "id": "34ee9a81",
   "metadata": {},
   "source": [
    "# Augmented Dickey-Fuller Test\n",
    "Testing if time series data is stationary."
   ]
  },
  {
   "cell_type": "code",
   "execution_count": 19,
   "id": "c3a54c70",
   "metadata": {},
   "outputs": [
    {
     "name": "stdout",
     "output_type": "stream",
     "text": [
      "ADF Statistic: -25.852859\n",
      "p-value: 0.000000\n",
      "Critical Values:\n",
      "\t1%: -3.430\n",
      "\t5%: -2.862\n",
      "\t10%: -2.567\n"
     ]
    }
   ],
   "source": [
    "result = adfuller(hr_df[' hr'])\n",
    "print('ADF Statistic: %f' % result[0])\n",
    "print('p-value: %f' % result[1])\n",
    "print('Critical Values:')\n",
    "for key, value in result[4].items():\n",
    "    print('\\t%s: %.3f' % (key, value))"
   ]
  },
  {
   "cell_type": "code",
   "execution_count": null,
   "id": "e56059e6",
   "metadata": {},
   "outputs": [],
   "source": [
    "result = adfuller(eda_df[' eda'])\n",
    "print('ADF Statistic: %f' % result[0])\n",
    "print('p-value: %f' % result[1])\n",
    "print('Critical Values:')\n",
    "for key, value in result[4].items():\n",
    "    print('\\t%s: %.3f' % (key, value))"
   ]
  },
  {
   "cell_type": "code",
   "execution_count": 1,
   "id": "83efbdfe",
   "metadata": {},
   "outputs": [
    {
     "ename": "NameError",
     "evalue": "name 'eda_df' is not defined",
     "output_type": "error",
     "traceback": [
      "\u001b[0;31m---------------------------------------------------------------------------\u001b[0m",
      "\u001b[0;31mNameError\u001b[0m                                 Traceback (most recent call last)",
      "\u001b[0;32m/var/folders/15/84l_j_890zv_pl5z1bl0k4pr0000gn/T/ipykernel_96885/444095907.py\u001b[0m in \u001b[0;36m<module>\u001b[0;34m\u001b[0m\n\u001b[0;32m----> 1\u001b[0;31m \u001b[0mprint\u001b[0m\u001b[0;34m(\u001b[0m\u001b[0mlen\u001b[0m\u001b[0;34m(\u001b[0m\u001b[0meda_df\u001b[0m\u001b[0;34m)\u001b[0m\u001b[0;34m)\u001b[0m\u001b[0;34m\u001b[0m\u001b[0;34m\u001b[0m\u001b[0m\n\u001b[0m",
      "\u001b[0;31mNameError\u001b[0m: name 'eda_df' is not defined"
     ]
    }
   ],
   "source": [
    "print(len(eda_df))"
   ]
  },
  {
   "cell_type": "code",
   "execution_count": null,
   "id": "37fb0e67",
   "metadata": {},
   "outputs": [],
   "source": [
    "result = adfuller(temp_df[' temp'])\n",
    "print('ADF Statistic: %f' % result[0])\n",
    "print('p-value: %f' % result[1])\n",
    "print('Critical Values:')\n",
    "for key, value in result[4].items():\n",
    "    print('\\t%s: %.3f' % (key, value))"
   ]
  }
 ],
 "metadata": {
  "kernelspec": {
   "display_name": "Python 3 (ipykernel)",
   "language": "python",
   "name": "python3"
  },
  "language_info": {
   "codemirror_mode": {
    "name": "ipython",
    "version": 3
   },
   "file_extension": ".py",
   "mimetype": "text/x-python",
   "name": "python",
   "nbconvert_exporter": "python",
   "pygments_lexer": "ipython3",
   "version": "3.7.9"
  }
 },
 "nbformat": 4,
 "nbformat_minor": 5
}
